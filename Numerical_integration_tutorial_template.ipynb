{
 "cells": [
  {
   "cell_type": "markdown",
   "metadata": {},
   "source": [
    "## Numerical Integration Tutorial\n",
    "In this tutorial, you will compute the angular diameter distance as a function of redshift by numerically integrating a function of the Hubble constant. You will then compare your results to that of a tool that you might use in a real research setting - Ned Wright's excellent cosmology calculator. His website also has excellent resources for learning about contemporary physical cosmology. "
   ]
  },
  {
   "cell_type": "markdown",
   "metadata": {},
   "source": [
    "Import statements"
   ]
  },
  {
   "cell_type": "code",
   "execution_count": null,
   "metadata": {},
   "outputs": [],
   "source": []
  },
  {
   "cell_type": "markdown",
   "metadata": {},
   "source": [
    "Calculate the cosmological angular diameter distance, D_A using 4 different numberical integrators.\n",
    "Integrate given equation from z = 0 to z = 10, in steps, to get D_A(z) at certain values of z\n",
    "Plot D_A at each value of z"
   ]
  },
  {
   "cell_type": "code",
   "execution_count": null,
   "metadata": {},
   "outputs": [],
   "source": []
  },
  {
   "cell_type": "markdown",
   "metadata": {},
   "source": [
    "Write a trapezoidal rule integrator. This can be either a loop based or vectorized code. Since the vectorized solution is given in the slides, and uses a \"cute\" expression for the sum, you might instead do the problem \"classically\", that is, make little trapezoids and compute their area in a loop. "
   ]
  },
  {
   "cell_type": "code",
   "execution_count": null,
   "metadata": {},
   "outputs": [],
   "source": []
  },
  {
   "cell_type": "markdown",
   "metadata": {},
   "source": [
    "Write a Simpson's rule integrator. This will involve integrals over \"odd\" and \"even\" sums, probably in a loop, but obviously vectorize this if you can! "
   ]
  },
  {
   "cell_type": "code",
   "execution_count": null,
   "metadata": {},
   "outputs": [],
   "source": []
  },
  {
   "cell_type": "markdown",
   "metadata": {},
   "source": [
    "Bonus: Implement a Gaussian quadrature integrator. There are some convenience functions in python that will make this much more tractable!"
   ]
  },
  {
   "cell_type": "code",
   "execution_count": null,
   "metadata": {},
   "outputs": [],
   "source": []
  },
  {
   "cell_type": "markdown",
   "metadata": {},
   "source": [
    "Write a function for the angular diameter distance. There are an annoyingly large number of distance measures in cosmology. If you look up angular diameter distance the way I do, that is, by using google, you might find the following defintion. \n",
    "\n",
    "$D_A = \\frac{\\int_{z1}^{z2} r(z) dz}{(1+z_2)}$\n",
    "\n",
    "where r(z) is given by\n",
    "\n",
    "$\\frac{c}{H(z)}$\n",
    "\n",
    "and H(z) is the Hubble constant as a function of redshift. We can assume H(z) is given by\n",
    "\n",
    "$\\sqrt{\\Omega_M (1+z)^3 + \\Omega_{\\Lambda}}$\n",
    "\n",
    "in the late time universe. Compare your results to the cosmology calculator that you would use in research: http://www.astro.ucla.edu/~wright/CosmoCalc.html"
   ]
  },
  {
   "cell_type": "code",
   "execution_count": null,
   "metadata": {},
   "outputs": [],
   "source": []
  }
 ],
 "metadata": {
  "kernelspec": {
   "display_name": "Python 3",
   "language": "python",
   "name": "python3"
  },
  "language_info": {
   "codemirror_mode": {
    "name": "ipython",
    "version": 3
   },
   "file_extension": ".py",
   "mimetype": "text/x-python",
   "name": "python",
   "nbconvert_exporter": "python",
   "pygments_lexer": "ipython3",
   "version": "3.8.5"
  }
 },
 "nbformat": 4,
 "nbformat_minor": 2
}
