{
 "cells": [
  {
   "cell_type": "markdown",
   "metadata": {},
   "source": [
    "# Bayesian Poisson Process Python Tutorial\n",
    "In this tutorial, you will ake a 2D contour plot(using matplotlib’s contour plot method) of the posterior probability distribution for linear parameters (m,b) based on a mock dataset (that you produce). The constant model might be familiar, while the linear model might be a good model for the distribution of photons from a high redshift galaxy or from highly energetic sources. "
   ]
  },
  {
   "cell_type": "markdown",
   "metadata": {},
   "source": [
    "import statements "
   ]
  },
  {
   "cell_type": "code",
   "execution_count": null,
   "metadata": {},
   "outputs": [],
   "source": []
  },
  {
   "cell_type": "markdown",
   "metadata": {},
   "source": [
    "Define a redshift range and generate some initial mock poisson distributed data. Feel free to generate data from constant or linear model. "
   ]
  },
  {
   "cell_type": "code",
   "execution_count": null,
   "metadata": {},
   "outputs": [],
   "source": []
  },
  {
   "cell_type": "markdown",
   "metadata": {},
   "source": [
    "Define functions that return the P(Data|model parameters m and b) given some observed data.\n",
    "hint: you'll want to compute the log-likelihood rather than the likelihood directly. This turns addition into multiplication and helps with numerical error. "
   ]
  },
  {
   "cell_type": "code",
   "execution_count": null,
   "metadata": {},
   "outputs": [],
   "source": []
  },
  {
   "cell_type": "markdown",
   "metadata": {},
   "source": [
    "Now, evaluate your likelihood function from the previous cell on a grid of model parameters. Estimate the poisson rate or location parameter $\\mu$. If the data were drawn from a linear model, what are the inferred values of m and b? How certain of those values are you?"
   ]
  },
  {
   "cell_type": "code",
   "execution_count": null,
   "metadata": {},
   "outputs": [],
   "source": []
  },
  {
   "cell_type": "markdown",
   "metadata": {},
   "source": [
    "Now use matplotlib or seaborn to make some contour plots of the likelihood surface. "
   ]
  },
  {
   "cell_type": "code",
   "execution_count": null,
   "metadata": {},
   "outputs": [],
   "source": []
  }
 ],
 "metadata": {
  "kernelspec": {
   "display_name": "Python 3",
   "language": "python",
   "name": "python3"
  },
  "language_info": {
   "codemirror_mode": {
    "name": "ipython",
    "version": 3
   },
   "file_extension": ".py",
   "mimetype": "text/x-python",
   "name": "python",
   "nbconvert_exporter": "python",
   "pygments_lexer": "ipython3",
   "version": "3.8.5"
  }
 },
 "nbformat": 4,
 "nbformat_minor": 4
}
