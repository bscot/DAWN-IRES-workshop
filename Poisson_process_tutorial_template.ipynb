{
 "cells": [
  {
   "cell_type": "markdown",
   "metadata": {},
   "source": [
    "# Bayesian Poisson Process Python Tutorial\n",
    "In this tutorial, you will ake a 2D contour plot(using matplotlib’s contour plot method) of the posterior probability distribution for linear parameters (m,b) based on a mock dataset (that you produce). The constant model might be familiar, while the linear model might be a good model for the distribution of photons from a high redshift galaxy or from highly energetic sources. "
   ]
  },
  {
   "cell_type": "markdown",
   "metadata": {},
   "source": [
    "import statements "
   ]
  },
  {
   "cell_type": "code",
   "execution_count": null,
   "metadata": {},
   "outputs": [],
   "source": []
  },
  {
   "cell_type": "markdown",
   "metadata": {},
   "source": [
    "Step 1: Define functions that return P(Data|model parameters m and b) given some observed data point."
   ]
  },
  {
   "cell_type": "code",
   "execution_count": null,
   "metadata": {},
   "outputs": [],
   "source": []
  },
  {
   "cell_type": "markdown",
   "metadata": {},
   "source": [
    "Step 2: Define a redshift range and generate some initial mock poisson distributed data. Feel free to generate data from constant or linear model. Begin by defining your likelihood function (as given in the slides). \n",
    "\n",
    "On one model, the parameter $\\mu$ will be a constant (pick something that seems reasonable, e.g. gives a small number of counts). In the other model, $\\mu$ will be some function of redshift, something like $mz + b$. \n",
    "\n",
    "It turns out that sampling from an arbitrary distribution can be a bit difficult - we can cover how to do this separately - so you'll want to use a function from scipy's random module to sample from the constant model (in other words, scipy has a built in function to do this!). "
   ]
  },
  {
   "cell_type": "code",
   "execution_count": null,
   "metadata": {},
   "outputs": [],
   "source": []
  },
  {
   "cell_type": "markdown",
   "metadata": {},
   "source": [
    "Step 3: Once you have the P(Data|model) for a single data point from step 1, write a function that sums the probabilities of many individually measured data points. Hint: You'll want to compute the log-likelihood rather than the likelihood directly. This turns addition into multiplication and helps with numerical error. "
   ]
  },
  {
   "cell_type": "code",
   "execution_count": null,
   "metadata": {},
   "outputs": [],
   "source": []
  },
  {
   "cell_type": "markdown",
   "metadata": {},
   "source": [
    "Step 4: Now, evaluate your likelihood function from the previous cell on a grid of model parameters. In other words, what is P(D|Model) given many possible values of m and b. Estimate the poisson rate or location parameter $\\mu$ in the const. If the data were drawn from a linear model, what are the inferred values of m and b? How certain of those values are you?"
   ]
  },
  {
   "cell_type": "code",
   "execution_count": null,
   "metadata": {},
   "outputs": [],
   "source": []
  },
  {
   "cell_type": "markdown",
   "metadata": {},
   "source": [
    "Now use matplotlib or seaborn to make some contour plots of the likelihood surface. "
   ]
  },
  {
   "cell_type": "code",
   "execution_count": null,
   "metadata": {},
   "outputs": [],
   "source": []
  }
 ],
 "metadata": {
  "kernelspec": {
   "display_name": "Python 3",
   "language": "python",
   "name": "python3"
  },
  "language_info": {
   "codemirror_mode": {
    "name": "ipython",
    "version": 3
   },
   "file_extension": ".py",
   "mimetype": "text/x-python",
   "name": "python",
   "nbconvert_exporter": "python",
   "pygments_lexer": "ipython3",
   "version": "3.8.5"
  }
 },
 "nbformat": 4,
 "nbformat_minor": 4
}
